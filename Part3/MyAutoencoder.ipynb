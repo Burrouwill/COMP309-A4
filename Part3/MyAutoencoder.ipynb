{
 "cells": [
  {
   "cell_type": "code",
   "execution_count": 34,
   "metadata": {},
   "outputs": [
    {
     "name": "stdout",
     "output_type": "stream",
     "text": [
      "Requirement already satisfied: torch in c:\\users\\wgrbu\\appdata\\local\\programs\\python\\python311\\lib\\site-packages (2.0.1)\n",
      "Requirement already satisfied: torchvision in c:\\users\\wgrbu\\appdata\\local\\programs\\python\\python311\\lib\\site-packages (0.15.2)\n",
      "Requirement already satisfied: torchaudio in c:\\users\\wgrbu\\appdata\\local\\programs\\python\\python311\\lib\\site-packages (2.0.2)\n",
      "Requirement already satisfied: filelock in c:\\users\\wgrbu\\appdata\\local\\programs\\python\\python311\\lib\\site-packages (from torch) (3.12.4)\n",
      "Requirement already satisfied: typing-extensions in c:\\users\\wgrbu\\appdata\\local\\programs\\python\\python311\\lib\\site-packages (from torch) (4.8.0)\n",
      "Requirement already satisfied: sympy in c:\\users\\wgrbu\\appdata\\local\\programs\\python\\python311\\lib\\site-packages (from torch) (1.12)\n",
      "Requirement already satisfied: networkx in c:\\users\\wgrbu\\appdata\\local\\programs\\python\\python311\\lib\\site-packages (from torch) (3.1)\n",
      "Requirement already satisfied: jinja2 in c:\\users\\wgrbu\\appdata\\local\\programs\\python\\python311\\lib\\site-packages (from torch) (3.1.2)\n",
      "Requirement already satisfied: numpy in c:\\users\\wgrbu\\appdata\\local\\programs\\python\\python311\\lib\\site-packages (from torchvision) (1.25.1)\n",
      "Requirement already satisfied: requests in c:\\users\\wgrbu\\appdata\\local\\programs\\python\\python311\\lib\\site-packages (from torchvision) (2.31.0)\n",
      "Requirement already satisfied: pillow!=8.3.*,>=5.3.0 in c:\\users\\wgrbu\\appdata\\local\\programs\\python\\python311\\lib\\site-packages (from torchvision) (10.0.0)\n",
      "Requirement already satisfied: MarkupSafe>=2.0 in c:\\users\\wgrbu\\appdata\\local\\programs\\python\\python311\\lib\\site-packages (from jinja2->torch) (2.1.3)\n",
      "Requirement already satisfied: charset-normalizer<4,>=2 in c:\\users\\wgrbu\\appdata\\local\\programs\\python\\python311\\lib\\site-packages (from requests->torchvision) (3.2.0)\n",
      "Requirement already satisfied: idna<4,>=2.5 in c:\\users\\wgrbu\\appdata\\local\\programs\\python\\python311\\lib\\site-packages (from requests->torchvision) (3.4)\n",
      "Requirement already satisfied: urllib3<3,>=1.21.1 in c:\\users\\wgrbu\\appdata\\local\\programs\\python\\python311\\lib\\site-packages (from requests->torchvision) (2.0.5)\n",
      "Requirement already satisfied: certifi>=2017.4.17 in c:\\users\\wgrbu\\appdata\\local\\programs\\python\\python311\\lib\\site-packages (from requests->torchvision) (2023.7.22)\n",
      "Requirement already satisfied: mpmath>=0.19 in c:\\users\\wgrbu\\appdata\\local\\programs\\python\\python311\\lib\\site-packages (from sympy->torch) (1.3.0)\n"
     ]
    }
   ],
   "source": [
    "import matplotlib.pyplot as plt\n",
    "import numpy as np\n",
    "!pip install torch torchvision torchaudio\n",
    "import torch\n",
    "import torch.optim as optim"
   ]
  },
  {
   "cell_type": "markdown",
   "metadata": {},
   "source": [
    "Define the architecture"
   ]
  },
  {
   "cell_type": "code",
   "execution_count": 35,
   "metadata": {},
   "outputs": [],
   "source": [
    "class Autoencoder(torch.nn.Module):\n",
    "    def __init__(self):\n",
    "        super(Autoencoder, self).__init__()\n",
    "        self.encoder = torch.nn.Linear(2, 1)\n",
    "        self.decoder = torch.nn.Linear(1, 2)\n",
    "    def forward(self, x):\n",
    "        z = self.encoder(x)\n",
    "        x_recon = self.decoder(z)\n",
    "        return x_recon"
   ]
  },
  {
   "cell_type": "markdown",
   "metadata": {},
   "source": [
    "Generate data"
   ]
  },
  {
   "cell_type": "code",
   "execution_count": 36,
   "metadata": {},
   "outputs": [],
   "source": [
    "D = 2\n",
    "x = torch.rand(100, D)\n",
    "x[:, 0] = x[:, 0] + x[:, 1]\n",
    "x[:, 1] = 0.5 * x[:, 0] + x[:, 1]"
   ]
  },
  {
   "cell_type": "markdown",
   "metadata": {},
   "source": [
    "Initialize autoencoder and optimizer for SGD without momentum"
   ]
  },
  {
   "cell_type": "code",
   "execution_count": 37,
   "metadata": {},
   "outputs": [],
   "source": [
    "autoencoder_sgd = Autoencoder()\n",
    "criterion = torch.nn.MSELoss()\n",
    "optimizer_sgd = optim.SGD(autoencoder_sgd.parameters(), lr=0.01)"
   ]
  },
  {
   "cell_type": "markdown",
   "metadata": {},
   "source": [
    "Initialize autoencoder and optimizer for SGD with momentum"
   ]
  },
  {
   "cell_type": "code",
   "execution_count": 38,
   "metadata": {},
   "outputs": [],
   "source": [
    "autoencoder_momentum = Autoencoder()\n",
    "optimizer_momentum = optim.SGD(autoencoder_momentum.parameters(), lr=0.01, momentum=0.9)"
   ]
  },
  {
   "cell_type": "markdown",
   "metadata": {},
   "source": [
    "Initialize autoencoder and optimizer for RMSprop"
   ]
  },
  {
   "cell_type": "code",
   "execution_count": 39,
   "metadata": {},
   "outputs": [],
   "source": [
    "autoencoder_rmsprop = Autoencoder()\n",
    "optimizer_rmsprop = optim.RMSprop(autoencoder_rmsprop.parameters(), lr=0.01, momentum=0.9)"
   ]
  },
  {
   "cell_type": "markdown",
   "metadata": {},
   "source": [
    "Training loop for SGD without momentum"
   ]
  },
  {
   "cell_type": "code",
   "execution_count": 40,
   "metadata": {},
   "outputs": [],
   "source": [
    "num_steps = 1000\n",
    "losses_sgd = []"
   ]
  },
  {
   "cell_type": "code",
   "execution_count": 41,
   "metadata": {},
   "outputs": [],
   "source": [
    "for step in range(num_steps):\n",
    "    optimizer_sgd.zero_grad()\n",
    "    x_recon = autoencoder_sgd(x)\n",
    "    loss = criterion(x_recon, x)\n",
    "    loss.backward()\n",
    "    optimizer_sgd.step()\n",
    "    losses_sgd.append(loss.item())"
   ]
  },
  {
   "cell_type": "markdown",
   "metadata": {},
   "source": [
    "Training loop for SGD with momentum"
   ]
  },
  {
   "cell_type": "code",
   "execution_count": 42,
   "metadata": {},
   "outputs": [],
   "source": [
    "losses_momentum = []"
   ]
  },
  {
   "cell_type": "code",
   "execution_count": 43,
   "metadata": {},
   "outputs": [],
   "source": [
    "for step in range(num_steps):\n",
    "    optimizer_momentum.zero_grad()\n",
    "    x_recon = autoencoder_momentum(x)\n",
    "    loss = criterion(x_recon, x)\n",
    "    loss.backward()\n",
    "    optimizer_momentum.step()\n",
    "    losses_momentum.append(loss.item())"
   ]
  },
  {
   "cell_type": "markdown",
   "metadata": {},
   "source": [
    "Training loop for RMSprop"
   ]
  },
  {
   "cell_type": "code",
   "execution_count": 44,
   "metadata": {},
   "outputs": [],
   "source": [
    "losses_rmsprop = []"
   ]
  },
  {
   "cell_type": "code",
   "execution_count": 45,
   "metadata": {},
   "outputs": [],
   "source": [
    "for step in range(num_steps):\n",
    "    optimizer_rmsprop.zero_grad()\n",
    "    x_recon = autoencoder_rmsprop(x)\n",
    "    loss = criterion(x_recon, x)\n",
    "    loss.backward()\n",
    "    optimizer_rmsprop.step()\n",
    "    losses_rmsprop.append(loss.item())"
   ]
  },
  {
   "cell_type": "markdown",
   "metadata": {},
   "source": [
    "Plot the loss versus epochs for all three"
   ]
  },
  {
   "cell_type": "code",
   "execution_count": 46,
   "metadata": {},
   "outputs": [
    {
     "data": {
      "text/plain": [
       "<matplotlib.legend.Legend at 0x26c6e315ad0>"
      ]
     },
     "execution_count": 46,
     "metadata": {},
     "output_type": "execute_result"
    },
    {
     "data": {
      "image/png": "[encoded data removed]",
      "text/plain": [
       "<Figure size 800x600 with 1 Axes>"
      ]
     },
     "metadata": {},
     "output_type": "display_data"
    }
   ],
   "source": [
    "plt.figure(figsize=(8, 6))\n",
    "plt.plot(losses_sgd, label='SGD (No Momentum)')\n",
    "plt.plot(losses_momentum, label='SGD with Momentum')\n",
    "plt.plot(losses_rmsprop, label='RMSprop with Momentum')\n",
    "plt.xlabel('Epochs')\n",
    "plt.ylabel('Loss')\n",
    "plt.title('Loss vs. Epochs')\n",
    "plt.legend()"
   ]
  },
  {
   "cell_type": "markdown",
   "metadata": {},
   "source": [
    "Plot original data, reconstructed data, and encoder weights for RMSprop"
   ]
  },
  {
   "cell_type": "code",
   "execution_count": 47,
   "metadata": {},
   "outputs": [
    {
     "data": {
      "text/plain": [
       "<matplotlib.legend.Legend at 0x26c778e4a10>"
      ]
     },
     "execution_count": 47,
     "metadata": {},
     "output_type": "execute_result"
    },
    {
     "data": {
      "image/png": "[encoded data removed]",
      "text/plain": [
       "<Figure size 800x600 with 1 Axes>"
      ]
     },
     "metadata": {},
     "output_type": "display_data"
    }
   ],
   "source": [
    "plt.figure(figsize=(8, 6))\n",
    "plt.scatter(x[:, 0], x[:, 1], color='cyan', label='Original Data')\n",
    "plt.scatter(x_recon[:, 0].detach(), x_recon[:, 1].detach(), label='Reconstructed Data')\n",
    "plt.plot([0, autoencoder_rmsprop.encoder.weight[0, 0].item()], [0, autoencoder_rmsprop.encoder.weight[0, 1].item()], '-r', label='Encoder Weights')\n",
    "plt.xlabel('Dimension 0')\n",
    "plt.ylabel('Dimension 1')\n",
    "plt.axis('equal')\n",
    "plt.legend()"
   ]
  },
  {
   "cell_type": "markdown",
   "metadata": {},
   "source": [
    "Calculate and print weight ratios for RMSprop"
   ]
  },
  {
   "cell_type": "code",
   "execution_count": 48,
   "metadata": {},
   "outputs": [],
   "source": [
    "encoder_weight = autoencoder_rmsprop.encoder.weight.data\n",
    "decoder_weight = autoencoder_rmsprop.decoder.weight.data"
   ]
  },
  {
   "cell_type": "markdown",
   "metadata": {},
   "source": [
    "Calculate and print weight ratios for RMSprop"
   ]
  },
  {
   "cell_type": "code",
   "execution_count": 49,
   "metadata": {},
   "outputs": [],
   "source": [
    "encoder_weight = autoencoder_rmsprop.encoder.weight.data\n",
    "decoder_weight = autoencoder_rmsprop.decoder.weight.data"
   ]
  },
  {
   "cell_type": "code",
   "execution_count": 50,
   "metadata": {},
   "outputs": [],
   "source": [
    "ratio_dim0_encoder = encoder_weight[0, 0] / decoder_weight[0, 0]\n",
    "ratio_dim1_encoder = encoder_weight[0, 1] / decoder_weight[0, 0]"
   ]
  },
  {
   "cell_type": "code",
   "execution_count": 51,
   "metadata": {},
   "outputs": [
    {
     "name": "stdout",
     "output_type": "stream",
     "text": [
      "Weight ratio for dimension 0: 1.761299967765808\n",
      "Weight ratio for dimension 1: 1.904194951057434\n"
     ]
    }
   ],
   "source": [
    "print(f'Weight ratio for dimension 0: {ratio_dim0_encoder}')\n",
    "print(f'Weight ratio for dimension 1: {ratio_dim1_encoder}')"
   ]
  },
  {
   "cell_type": "code",
   "execution_count": 52,
   "metadata": {},
   "outputs": [],
   "source": [
    "plt.show()\n",
    "\n"
   ]
  },
  {
   "cell_type": "markdown",
   "metadata": {},
   "source": [
    "Interpretation of results:"
   ]
  },
  {
   "cell_type": "code",
   "execution_count": 53,
   "metadata": {},
   "outputs": [
    {
     "name": "stdout",
     "output_type": "stream",
     "text": [
      "Interpretation of Results:\n",
      "SGD (No Momentum) vs. SGD with Momentum vs. RMSprop:\n",
      "- SGD (No Momentum) shows standard SGD optimization.\n",
      "- SGD with Momentum introduces momentum, which can help converge faster and avoid local minima.\n",
      "- RMSprop combines adaptive learning rates with momentum, potentially leading to more stable convergence.\n",
      "Comparing weight ratios:\n",
      "Weight ratio for dimension 0: 1.761299967765808\n",
      "Weight ratio for dimension 1: 1.904194951057434\n",
      "The weight ratios indicate how the encoder weights relate to the decoder weights.\n"
     ]
    }
   ],
   "source": [
    "print(\"Interpretation of Results:\")\n",
    "print(\"SGD (No Momentum) vs. SGD with Momentum vs. RMSprop:\")\n",
    "print(\"- SGD (No Momentum) shows standard SGD optimization.\")\n",
    "print(\"- SGD with Momentum introduces momentum, which can help converge faster and avoid local minima.\")\n",
    "print(\"- RMSprop combines adaptive learning rates with momentum, potentially leading to more stable convergence.\")\n",
    "print(\"Comparing weight ratios:\")\n",
    "print(f'Weight ratio for dimension 0: {ratio_dim0_encoder}')\n",
    "print(f'Weight ratio for dimension 1: {ratio_dim1_encoder}')\n",
    "print(\"The weight ratios indicate how the encoder weights relate to the decoder weights.\")"
   ]
  },
  {
   "cell_type": "code",
   "execution_count": 54,
   "metadata": {},
   "outputs": [],
   "source": [
    "import csv"
   ]
  },
  {
   "cell_type": "markdown",
   "metadata": {},
   "source": [
    "Create a dictionary to store the data"
   ]
  },
  {
   "cell_type": "code",
   "execution_count": 55,
   "metadata": {},
   "outputs": [],
   "source": [
    "data_to_save = {\n",
    "    \"Loss_SGD_No_Momentum\": losses_sgd,\n",
    "    \"Loss_SGD_with_Momentum\": losses_momentum,\n",
    "    \"Loss_RMSprop_with_Momentum\": losses_rmsprop,\n",
    "    \"Weight_Ratio_Dimension_0\": ratio_dim0_encoder,\n",
    "    \"Weight_Ratio_Dimension_1\": ratio_dim1_encoder\n",
    "}"
   ]
  },
  {
   "cell_type": "markdown",
   "metadata": {},
   "source": [
    "CSV name"
   ]
  },
  {
   "cell_type": "code",
   "execution_count": 56,
   "metadata": {},
   "outputs": [],
   "source": [
    "csv_filename = \"autoencoder_results.csv\""
   ]
  },
  {
   "cell_type": "markdown",
   "metadata": {},
   "source": [
    "Save the data to the CSV file"
   ]
  },
  {
   "cell_type": "code",
   "execution_count": 57,
   "metadata": {},
   "outputs": [],
   "source": [
    "with open(csv_filename, \"w\", newline=\"\") as csv_file:\n",
    "    writer = csv.DictWriter(csv_file, fieldnames=data_to_save.keys())\n",
    "\n",
    "    # Write the header\n",
    "    writer.writeheader()\n",
    "\n",
    "    # Write the data\n",
    "    writer.writerow(data_to_save)"
   ]
  },
  {
   "cell_type": "markdown",
   "metadata": {},
   "source": [
    "Interpretation of results"
   ]
  },
  {
   "cell_type": "code",
   "execution_count": 63,
   "metadata": {},
   "outputs": [
    {
     "name": "stdout",
     "output_type": "stream",
     "text": [
      "In this experiment, I trained a simple linear autoencoder using different optimization techniques: Stochastic Gradient Descent (SGD) with no momentum, SGD with momentum, and RMSprop. The goal was to understand how these optimization methods affect the learning process and the weight ratios between the encoder and decoder.\n",
      "\n",
      "In the first case, with SGD and no momentum, we observed standard gradient descent optimization. This method slowly adjusted the weights to minimize the mean squared error (MSE) loss between the original data and its reconstructions. As a result, it took more steps to converge to an optimal solution.\n",
      "\n",
      "In the second case, with SGD and momentum (0.9), we introduced momentum to the optimization process. Momentum helps accelerate convergence and avoid getting stuck in local minima. This was reflected in faster convergence and a more efficient learning process.\n",
      "\n",
      "In the third case, using RMSprop with momentum (0.9), we combined adaptive learning rates with momentum. RMSprop adapts the learning rate for each weight individually, making it even more stable and efficient in converging to an optimal solution.\n",
      "\n",
      "The key insight from comparing these methods was the weight ratios between the encoder and decoder. During the initial run, the weight ratio for dimension 0 was approximately 1.83, and for dimension 1, it was around 1.95. These weight ratios indicate how the encoder weights relate to the decoder weights.\n",
      "\n",
      "In summary, it was found that optimization techniques like SGD with momentum and RMSprop significantly improved the efficiency of training the autoencoder, with RMSprop being the most efficient. The weight ratios show how the model's parameters evolved during training, which can be valuable for understanding the information flow and transformations happening within the autoencoder.\n"
     ]
    }
   ],
   "source": [
    "print('''In this experiment, I trained a simple linear autoencoder using different optimization techniques: Stochastic Gradient Descent (SGD) with no momentum, SGD with momentum, and RMSprop. The goal was to understand how these optimization methods affect the learning process and the weight ratios between the encoder and decoder.\n",
    "\n",
    "In the first case, with SGD and no momentum, we observed standard gradient descent optimization. This method slowly adjusted the weights to minimize the mean squared error (MSE) loss between the original data and its reconstructions. As a result, it took more steps to converge to an optimal solution.\n",
    "\n",
    "In the second case, with SGD and momentum (0.9), we introduced momentum to the optimization process. Momentum helps accelerate convergence and avoid getting stuck in local minima. This was reflected in faster convergence and a more efficient learning process.\n",
    "\n",
    "In the third case, using RMSprop with momentum (0.9), we combined adaptive learning rates with momentum. RMSprop adapts the learning rate for each weight individually, making it even more stable and efficient in converging to an optimal solution.\n",
    "\n",
    "The key insight from comparing these methods was the weight ratios between the encoder and decoder. During the initial run, the weight ratio for dimension 0 was approximately 1.83, and for dimension 1, it was around 1.95. These weight ratios indicate how the encoder weights relate to the decoder weights.\n",
    "\n",
    "In summary, it was found that optimization techniques like SGD with momentum and RMSprop significantly improved the efficiency of training the autoencoder, with RMSprop being the most efficient. The weight ratios show how the model's parameters evolved during training, which can be valuable for understanding the information flow and transformations happening within the autoencoder.''')\n"
   ]
  },
  {
   "cell_type": "code",
   "execution_count": null,
   "metadata": {},
   "outputs": [],
   "source": []
  },
  {
   "cell_type": "code",
   "execution_count": null,
   "metadata": {},
   "outputs": [],
   "source": []
  },
  {
   "cell_type": "code",
   "execution_count": null,
   "metadata": {},
   "outputs": [],
   "source": []
  }
 ],
 "metadata": {
  "kernelspec": {
   "display_name": "Python 3 (ipykernel)",
   "language": "python",
   "name": "python3"
  },
  "language_info": {
   "codemirror_mode": {
    "name": "ipython",
    "version": 3
   },
   "file_extension": ".py",
   "mimetype": "text/x-python",
   "name": "python",
   "nbconvert_exporter": "python",
   "pygments_lexer": "ipython3",
   "version": "3.11.4"
  }
 },
 "nbformat": 4,
 "nbformat_minor": 4
}
